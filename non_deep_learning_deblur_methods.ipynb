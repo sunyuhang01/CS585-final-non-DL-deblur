{
 "cells": [
  {
   "cell_type": "code",
   "execution_count": 1,
   "metadata": {},
   "outputs": [],
   "source": [
    "from __future__ import print_function\n",
    "import numpy as np\n",
    "import cv2\n",
    "import os\n",
    "from os import listdir\n",
    "from os.path import isfile, join"
   ]
  },
  {
   "cell_type": "code",
   "execution_count": 2,
   "metadata": {},
   "outputs": [],
   "source": [
    "# motion deblur\n",
    "def blur_edge(img, d=31):\n",
    "    h, w  = img.shape[:2]\n",
    "    img_pad = cv2.copyMakeBorder(img, d, d, d, d, cv2.BORDER_WRAP)\n",
    "    img_blur = cv2.GaussianBlur(img_pad, (2*d+1, 2*d+1), -1)[d:-d,d:-d]\n",
    "    y, x = np.indices((h, w))\n",
    "    dist = np.dstack([x, w-x-1, y, h-y-1]).min(-1)\n",
    "    w = np.minimum(np.float32(dist)/d, 1.0)\n",
    "    return img*w + img_blur*(1-w)\n",
    "\n",
    "def motion_kernel(angle, d, sz=65):\n",
    "    kern = np.ones((1, d), np.float32)\n",
    "    c, s = np.cos(angle), np.sin(angle)\n",
    "    A = np.float32([[c, -s, 0], [s, c, 0]])\n",
    "    sz2 = sz // 2\n",
    "    A[:,2] = (sz2, sz2) - np.dot(A[:,:2], ((d-1)*0.5, 0))\n",
    "    kern = cv2.warpAffine(kern, A, (sz, sz), flags=cv2.INTER_CUBIC)\n",
    "    \n",
    "    return kern\n",
    "\n",
    "# out of focus deblur\n",
    "def defocus_kernel(d, sz=65):\n",
    "    kern = np.zeros((sz, sz), np.uint8)\n",
    "    cv2.circle(kern, (sz, sz), d, 255, -1, cv2.LINE_AA, shift=1)\n",
    "    kern = np.float32(kern) / 255.0\n",
    "    return kern\n"
   ]
  },
  {
   "cell_type": "code",
   "execution_count": 3,
   "metadata": {},
   "outputs": [],
   "source": [
    "# load the video\n",
    "video_path = 'input.mp4'\n",
    "video_capture = cv2.VideoCapture(video_path)\n",
    "# get the video information\n",
    "fps = video_capture.get(cv2.CAP_PROP_FPS)\n",
    "size = (int(video_capture.get(cv2.CAP_PROP_FRAME_WIDTH)), \n",
    "        int(video_capture.get(cv2.CAP_PROP_FRAME_HEIGHT)))\n",
    "fnums = video_capture.get(cv2.CAP_PROP_FRAME_COUNT)"
   ]
  },
  {
   "cell_type": "code",
   "execution_count": 4,
   "metadata": {},
   "outputs": [
    {
     "name": "stdout",
     "output_type": "stream",
     "text": [
      "image01.jpg\n",
      "image02.jpg\n",
      "image03.jpg\n",
      "image04.jpg\n",
      "image05.jpg\n",
      "image06.jpg\n",
      "image07.jpg\n",
      "image08.jpg\n",
      "image09.jpg\n",
      "image10.jpg\n",
      ">>finished<<\n"
     ]
    }
   ],
   "source": [
    "# save images\n",
    "file_path = 'images'\n",
    "if not os.path.exists(file_path):\n",
    "    os.mkdir(file_path)\n",
    "i = 0\n",
    "times = 100\n",
    "nums = 10\n",
    "isOpened = video_capture.isOpened()\n",
    "while isOpened:\n",
    "    if i == nums * times:\n",
    "        break\n",
    "    if i % times != 0:\n",
    "        i = i + 1\n",
    "        success, frame = video_capture.read()\n",
    "        continue\n",
    "    else:\n",
    "        i = i + 1\n",
    "\n",
    "    success, frame = video_capture.read()\n",
    "    if i // times + 1 < 10:\n",
    "        file_name = \"image0\" + str(i // times + 1) + \".jpg\"\n",
    "    else:\n",
    "        file_name = \"image\" + str(i // times + 1) + \".jpg\"\n",
    "    print(file_name)\n",
    "    if success == True:\n",
    "        cv2.imwrite(file_path + '/' + file_name, frame)\n",
    "video_capture.release()\n",
    "print('>>finished<<')"
   ]
  },
  {
   "cell_type": "code",
   "execution_count": 5,
   "metadata": {},
   "outputs": [
    {
     "name": "stdout",
     "output_type": "stream",
     "text": [
      "10\n"
     ]
    }
   ],
   "source": [
    "# load images\n",
    "img_path = './images'\n",
    "files = [join(img_path,f) for f in listdir(img_path) if isfile(join(img_path,f))]\n",
    "img = []\n",
    "for i in range(len(files)):\n",
    "    img.append(cv2.imread(files[i]))\n",
    "    \n",
    "print(len(img))"
   ]
  },
  {
   "cell_type": "code",
   "execution_count": 12,
   "metadata": {},
   "outputs": [],
   "source": [
    "# motion deblur or out of focus deblur\n",
    "def deblur_func(img, angle=180, d=10, snr=30, motion_func=True):\n",
    "    angle = np.deg2rad(180)\n",
    "    noise = 10**(-0.1 * snr)\n",
    "    \n",
    "    img_rgb = img[:,:,:].copy()\n",
    "    img_bw = cv2.cvtColor(img_rgb, cv2.COLOR_BGR2GRAY)\n",
    "    #deblur_output = frame[:,:,:].copy()\n",
    "    img_r = np.zeros_like(img_bw)\n",
    "    img_g = np.zeros_like(img_bw)\n",
    "    img_b = np.zeros_like(img_bw)\n",
    "\n",
    "    img_r = img_rgb[..., 0]\n",
    "    img_g = img_rgb[..., 1]\n",
    "\n",
    "    img_b = img_rgb[..., 2]\n",
    "\n",
    "    img_rgb = np.float32(img_rgb)/255.0\n",
    "    img_bw = np.float32(img_bw)/255.0\n",
    "    img_r = np.float32(img_r)/255.0\n",
    "    img_g = np.float32(img_g)/255.0\n",
    "    img_b = np.float32(img_b)/255.0\n",
    "\n",
    "    #cv2.imshow('input', img_rgb)\n",
    "\n",
    "    # img_bw = blur_edge(img_bw)\n",
    "    img_r = blur_edge(img_r)\n",
    "    img_g = blur_edge(img_g)\n",
    "    img_b = blur_edge(img_b)\n",
    "\n",
    "    # IMG_BW = cv2.dft(img_bw, flags=cv2.DFT_COMPLEX_OUTPUT)\n",
    "    IMG_R = cv2.dft(img_r, flags=cv2.DFT_COMPLEX_OUTPUT)\n",
    "    IMG_G = cv2.dft(img_g, flags=cv2.DFT_COMPLEX_OUTPUT)\n",
    "    IMG_B = cv2.dft(img_b, flags=cv2.DFT_COMPLEX_OUTPUT)\n",
    "\n",
    "\n",
    "    if motion_func:\n",
    "        psf = motion_kernel(angle, d)\n",
    "    else:\n",
    "        psf = defocus_kernel(d)\n",
    "    #cv2.imshow('psf', psf)\n",
    "    #print(psf)\n",
    "    psf /= psf.sum()\n",
    "    psf_pad = np.zeros_like(img_bw)\n",
    "    kh, kw = psf.shape\n",
    "    psf_pad[:kh, :kw] = psf\n",
    "    PSF = cv2.dft(psf_pad, flags=cv2.DFT_COMPLEX_OUTPUT, nonzeroRows = kh)\n",
    "    PSF2 = (PSF**2).sum(-1)\n",
    "    iPSF = PSF / (PSF2 + noise)[...,np.newaxis]\n",
    "\n",
    "    # RES_BW = cv2.mulSpectrums(IMG_BW, iPSF, 0)\n",
    "    RES_R = cv2.mulSpectrums(IMG_R, iPSF, 0)\n",
    "    RES_G = cv2.mulSpectrums(IMG_G, iPSF, 0)\n",
    "    RES_B = cv2.mulSpectrums(IMG_B, iPSF, 0)\n",
    "\n",
    "\n",
    "    # res_bw = cv2.idft(RES_BW, flags=cv2.DFT_SCALE | cv2.DFT_REAL_OUTPUT )\n",
    "    res_r = cv2.idft(RES_R, flags=cv2.DFT_SCALE | cv2.DFT_REAL_OUTPUT )\n",
    "    res_g = cv2.idft(RES_G, flags=cv2.DFT_SCALE | cv2.DFT_REAL_OUTPUT )\n",
    "    res_b = cv2.idft(RES_B, flags=cv2.DFT_SCALE | cv2.DFT_REAL_OUTPUT )\n",
    "\n",
    "    res_rgb = np.zeros_like(img_rgb)\n",
    "    res_rgb[..., 0] = res_r\n",
    "    res_rgb[..., 1] = res_g\n",
    "    res_rgb[..., 2] = res_b\n",
    "\n",
    "    # res_bw = np.roll(res_bw, -kh//2, 0)\n",
    "    # res_bw = np.roll(res_bw, -kw//2, 1)\n",
    "    res_rgb = np.roll(res_rgb, -kh//2, 0)\n",
    "    res_rgb = np.roll(res_rgb, -kw//2, 1)\n",
    "\n",
    "    #cv2.imshow('motion deblur', res_rgb)\n",
    "    #cv2.waitKey(0)\n",
    "\n",
    "    #cv2.destroyAllWindows()\n",
    "    return res_rgb"
   ]
  },
  {
   "cell_type": "code",
   "execution_count": 13,
   "metadata": {},
   "outputs": [],
   "source": [
    "def save_output(img, path, func, i):\n",
    "    file_path = path + \"/\" + func\n",
    "    if not os.path.exists(file_path):\n",
    "        os.makedirs(file_path)\n",
    "    \n",
    "    if i + 1 < 10:\n",
    "        file_name = func + \"0\" + str(i + 1) + \".jpg\"\n",
    "    else:\n",
    "        file_name = func + str(i + 1) + \".jpg\"\n",
    "    print(file_name)\n",
    "    cv2.imwrite(file_path + '/' + file_name, img * 255)"
   ]
  },
  {
   "cell_type": "code",
   "execution_count": 18,
   "metadata": {},
   "outputs": [
    {
     "name": "stdout",
     "output_type": "stream",
     "text": [
      "motion_deblur01.jpg\n",
      "motion_deblur02.jpg\n",
      "motion_deblur03.jpg\n",
      "motion_deblur04.jpg\n",
      "motion_deblur05.jpg\n",
      "motion_deblur06.jpg\n",
      "motion_deblur07.jpg\n",
      "motion_deblur08.jpg\n",
      "motion_deblur09.jpg\n",
      "motion_deblur10.jpg\n",
      "motion deblur finished.\n"
     ]
    }
   ],
   "source": [
    "img_index = 0\n",
    "angle = 180\n",
    "d = 10\n",
    "snr = 29\n",
    "# motion deblur\n",
    "while img_index < len(img):\n",
    "    cur = img[img_index]\n",
    "    output = deblur_func(cur, angle, d, snr)\n",
    "    save_output(output, \"output\", \"motion_deblur\", img_index)\n",
    "    img_index = img_index + 1\n",
    "\n",
    "print('motion deblur finished.')"
   ]
  },
  {
   "cell_type": "code",
   "execution_count": 17,
   "metadata": {},
   "outputs": [
    {
     "name": "stdout",
     "output_type": "stream",
     "text": [
      "defocus_deblur01.jpg\n",
      "defocus_deblur02.jpg\n",
      "defocus_deblur03.jpg\n",
      "defocus_deblur04.jpg\n",
      "defocus_deblur05.jpg\n",
      "defocus_deblur06.jpg\n",
      "defocus_deblur07.jpg\n",
      "defocus_deblur08.jpg\n",
      "defocus_deblur09.jpg\n",
      "defocus_deblur10.jpg\n",
      "defocus deblur finished.\n"
     ]
    }
   ],
   "source": [
    "# out of focus deblur\n",
    "img_index = 0\n",
    "d = 7\n",
    "snr = 11\n",
    "while img_index < len(img):\n",
    "    cur = img[img_index]\n",
    "    output = deblur_func(cur, angle, d, snr, False)\n",
    "    save_output(output, \"output\", \"defocus_deblur\", img_index)\n",
    "    img_index = img_index + 1\n",
    "\n",
    "print('defocus deblur finished.')"
   ]
  }
 ],
 "metadata": {
  "kernelspec": {
   "display_name": "Python 3",
   "language": "python",
   "name": "python3"
  },
  "language_info": {
   "codemirror_mode": {
    "name": "ipython",
    "version": 3
   },
   "file_extension": ".py",
   "mimetype": "text/x-python",
   "name": "python",
   "nbconvert_exporter": "python",
   "pygments_lexer": "ipython3",
   "version": "3.7.9"
  }
 },
 "nbformat": 4,
 "nbformat_minor": 4
}
